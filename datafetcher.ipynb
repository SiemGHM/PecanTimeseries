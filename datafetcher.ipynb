{
 "cells": [
  {
   "cell_type": "code",
   "execution_count": null,
   "metadata": {},
   "outputs": [],
   "source": [
    "import requests\n",
    "\n",
    "# URL of the dataset (replace with the actual link)\n",
    "for i in list(\"ABC\"):\n",
    "\n",
    "    dataset_url = f\"https://lass.cs.umass.edu/smarttraces/home{i}-all.tar.gz\"\n",
    "    print(dataset_url)\n",
    "\n",
    "    # Output file name\n",
    "    output_file = f\"UMass_Smart_Dataset_HOME_{i}.zip\"  # Adjust extension if not a ZIP file\n",
    "\n",
    "    # Download the dataset\n",
    "    response = requests.get(dataset_url, stream=True)\n",
    "    if response.status_code == 200:\n",
    "        with open(output_file, \"wb\") as file:\n",
    "            for chunk in response.iter_content(chunk_size=1024):\n",
    "                file.write(chunk)\n",
    "        print(f\"Dataset downloaded successfully as {output_file}\")\n",
    "    else:\n",
    "        print(f\"Failed to download dataset. HTTP Status Code: {response.status_code}\")\n"
   ]
  },
  {
   "cell_type": "code",
   "execution_count": null,
   "metadata": {},
   "outputs": [],
   "source": [
    "import torch\n",
    "torch.cuda.is_available()\n"
   ]
  },
  {
   "cell_type": "code",
   "execution_count": null,
   "metadata": {},
   "outputs": [],
   "source": [
    "import zipfile\n",
    "\n",
    "with zipfile.ZipFile(\"UMass_Smart_Dataset.zip\", \"r\") as zip_ref:\n",
    "    zip_ref.extractall(\"UMass_Smart_Dataset\")\n",
    "    print(\"Dataset extracted successfully!\")\n",
    "\n"
   ]
  },
  {
   "cell_type": "code",
   "execution_count": null,
   "metadata": {},
   "outputs": [],
   "source": [
    "!conda install -n iT ipykernel --update-deps --force-reinstall"
   ]
  },
  {
   "cell_type": "code",
   "execution_count": null,
   "metadata": {},
   "outputs": [],
   "source": []
  }
 ],
 "metadata": {
  "kernelspec": {
   "display_name": "iT",
   "language": "python",
   "name": "python3"
  },
  "language_info": {
   "codemirror_mode": {
    "name": "ipython",
    "version": 3
   },
   "file_extension": ".py",
   "mimetype": "text/x-python",
   "name": "python",
   "nbconvert_exporter": "python",
   "pygments_lexer": "ipython3",
   "version": "3.10.12"
  }
 },
 "nbformat": 4,
 "nbformat_minor": 2
}
